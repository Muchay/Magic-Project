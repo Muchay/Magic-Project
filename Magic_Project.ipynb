{
 "cells": [
  {
   "cell_type": "markdown",
   "metadata": {},
   "source": [
    "# Random Systems : Card Trick Case 1&2\n",
    "\n",
    "\n",
    "\n",
    "## Nneka Maureen Okolo\n",
    "\n",
    "## 29/12/2018\n"
   ]
  },
  {
   "cell_type": "code",
   "execution_count": 25,
   "metadata": {
    "collapsed": true
   },
   "outputs": [],
   "source": [
    "import numpy as np\n",
    "\n",
    "import itertools\n",
    "\n",
    "import random\n",
    "\n",
    "import collections\n",
    "\n",
    "import matplotlib.pyplot as plt"
   ]
  },
  {
   "cell_type": "markdown",
   "metadata": {},
   "source": [
    "# Analysis:\n",
    "\n",
    "We want to check the probability of a Magician winning by:\n",
    "\n",
    "* Performing a 3-Riffle Shuffle then selecting the top Card and placing it in the middle\n",
    "* Randomly placing a random card in a deck and performing a 3-Riffle Shuffle\n"
   ]
  },
  {
   "cell_type": "markdown",
   "metadata": {},
   "source": [
    "# Tools"
   ]
  },
  {
   "cell_type": "markdown",
   "metadata": {},
   "source": [
    "* Define a function to compute the number of rising sequences in an array"
   ]
  },
  {
   "cell_type": "code",
   "execution_count": 26,
   "metadata": {
    "collapsed": false
   },
   "outputs": [],
   "source": [
    "def Rising_Seq(Array):\n",
    "    \n",
    "    #Parameters\n",
    "    N = len(Array)                                   #The length of the array\n",
    "    C = []                                           #Initialise a list to collect the ordered sequences\n",
    "    count = 0                                        #Initialise a count of the number of rising sequences\n",
    "    \n",
    "    #1. Create a for loop to go over each element of the array\n",
    "    for i in range(N):\n",
    "        CardI = Array[i]+1                           #for a Card number in the array comput CardI = Card number + 1\n",
    "        j = i\n",
    "        if Array[i] not in C:                        #Check that Card number is not already in the list\n",
    "            C.append(Array[i])\n",
    "            while CardI in Array[j+1:N] and j<N:     #Check that CardI is after the Card number in the array then append\n",
    "                C.append(CardI)\n",
    "                if CardI in Array:\n",
    "                    j = list(Array).index(CardI)     #Obtain the position of CardI\n",
    "                else:\n",
    "                    j = N\n",
    "                CardI+=1                             #With reference to the position of CardI compute the next Card number\n",
    "            count += 1                               #Count after a sequence has been recorded\n",
    "            \n",
    "    #Result = print('Number of Rising Sequences: ',count,'\\n\\nRising Sequences:\\n',C)\n",
    "    return count                                     #Return the count which is the number of rising sequences."
   ]
  },
  {
   "cell_type": "markdown",
   "metadata": {},
   "source": [
    "* Define a function to compute N riffle shuffles of an array"
   ]
  },
  {
   "cell_type": "code",
   "execution_count": 27,
   "metadata": {
    "collapsed": false
   },
   "outputs": [],
   "source": [
    "#Define a riffle shuffle\n",
    "\n",
    "def Riffle_Shuffle(Array, N):\n",
    "    \n",
    "    #Parameters\n",
    "    NT = len(Array)                                  #The length of the array\n",
    "    NS = N                                           #Number of required Riffle shuffles on the array\n",
    "    i = 0                                            #Initialise the number of Riffle shuffles\n",
    "    \n",
    "    \n",
    "    #1. Create a while loop to run a riffle shuffle on the same array.\n",
    "    while i < NS:\n",
    "        \n",
    "        if NT%2 == 0:                                #If the length of the array is even\n",
    "            cut = NT//2                              #Divide the array into two equal parts\n",
    "            A = Array[0:cut]                         #Assign the first half of the array to A\n",
    "            B = Array[cut: NT]                       #Assign the second half of the array to B\n",
    "            E = np.random.randint(0,2)               #Include randomness to reduce the likeliness of the top or\n",
    "                                                     #bottom cards being in the same position\n",
    "            if E == 0:\n",
    "                Array = np.empty((A.size + B.size,), dtype=int)\n",
    "                Array[0::2] = A\n",
    "                Array[1::2] = B\n",
    "            if E == 1:\n",
    "                Array = np.empty((A.size + B.size,), dtype=int)\n",
    "                Array[1::2] = A\n",
    "                Array[0::2] = B\n",
    "                \n",
    "        if NT%2 == 1:                                #If the length of the array is odd\n",
    "            cut = NT//2 + 1                          #Divide the array into two unequal parts\n",
    "            E = np.random.randint(0,2)               #Include randomness to reduce the likeliness of the top or bottom\n",
    "                                                     #unequal Cards being in the same position\n",
    "                \n",
    "            if E == 0:\n",
    "                A = Array[0:cut]                     #Assign the larger half of the array to A\n",
    "                B = Array[cut: NT]                   #Assign the smaller half of the array to B\n",
    "                Array = np.empty((A.size + B.size,), dtype=int)\n",
    "                Array[0::2] = A\n",
    "                Array[1::2] = B \n",
    "            if E == 1:\n",
    "                A = Array[0:cut-1]                   #Assign the smaller half of the array to A\n",
    "                B = Array[cut-1: NT]                 #Assign the larger half of the array to B\n",
    "                Array = np.empty((A.size + B.size,), dtype=int)\n",
    "                Array[0::2] = B\n",
    "                Array[1::2] = A\n",
    "        i+=1                                         #increase the counter till NS Riffle Shuffles are complete\n",
    "        \n",
    "    return Array                                     #Return the shuffled array                                    "
   ]
  },
  {
   "cell_type": "markdown",
   "metadata": {},
   "source": [
    "* Define the Deck of cards"
   ]
  },
  {
   "cell_type": "code",
   "execution_count": 28,
   "metadata": {
    "collapsed": false
   },
   "outputs": [
    {
     "name": "stdout",
     "output_type": "stream",
     "text": [
      "Number of cards in a deck: 52\n"
     ]
    }
   ],
   "source": [
    "#Parameters\n",
    "\n",
    "N = int(input('Number of cards in a deck: '))        #Number of Cards in a Deck\n",
    "Cards = np.arange(1,N+1)                             #Initialise a deck with N cards\n"
   ]
  },
  {
   "cell_type": "code",
   "execution_count": 29,
   "metadata": {
    "collapsed": false
   },
   "outputs": [],
   "source": [
    "#To obtain all Permutations of the deck of Cards\n",
    "\n",
    "#Cards_Iterations = list(itertools.permutations(Cards))\n",
    "#Cards_Iterations"
   ]
  },
  {
   "cell_type": "markdown",
   "metadata": {},
   "source": [
    "## Case 1:\n",
    "\n",
    "Perform a 3-Riffle Shuffle, selecting the top Card and place it in the middle"
   ]
  },
  {
   "cell_type": "markdown",
   "metadata": {},
   "source": [
    "### Step 1:\n",
    "Perform a 3-Riffle Shuffle on an ordered deck of 52 cards"
   ]
  },
  {
   "cell_type": "code",
   "execution_count": 36,
   "metadata": {
    "collapsed": false
   },
   "outputs": [
    {
     "data": {
      "text/plain": [
       "array([ 7, 27, 20, 40, 34,  1, 47, 14,  8, 28, 21, 41, 35,  2, 48, 15,  9,\n",
       "       29, 22, 42, 36,  3, 49, 16, 10, 30, 23, 43, 37,  4, 50, 17, 11, 31,\n",
       "       24, 44, 38,  5, 51, 18, 12, 32, 25, 45, 39,  6, 52, 19, 13, 33, 26,\n",
       "       46])"
      ]
     },
     "execution_count": 36,
     "metadata": {},
     "output_type": "execute_result"
    }
   ],
   "source": [
    "Cards_Shuffle = Riffle_Shuffle(Cards,3)\n",
    "Cards_Shuffle"
   ]
  },
  {
   "cell_type": "markdown",
   "metadata": {},
   "source": [
    "* Check the number of rising sequences"
   ]
  },
  {
   "cell_type": "code",
   "execution_count": 37,
   "metadata": {
    "collapsed": false
   },
   "outputs": [
    {
     "data": {
      "text/plain": [
       "8"
      ]
     },
     "execution_count": 37,
     "metadata": {},
     "output_type": "execute_result"
    }
   ],
   "source": [
    "n = Rising_Seq(Cards_Shuffle)\n",
    "n"
   ]
  },
  {
   "cell_type": "markdown",
   "metadata": {},
   "source": [
    "### Step 2\n",
    "\n",
    "Place the top card in 52 possible position of shuffled cards:\n",
    "\n",
    "**Assumption**:\n",
    "\n",
    "The magician is not looking"
   ]
  },
  {
   "cell_type": "code",
   "execution_count": 38,
   "metadata": {
    "collapsed": false
   },
   "outputs": [],
   "source": [
    "Possible_Cards_Replace = []                         #Initialise a list with the number of possible positions of\n",
    "                                                    #the top card\n",
    "\n",
    "Possible_Cards_Replace.append(Cards_Shuffle)        #Include the initial shuffle as a possibility\n",
    "\n",
    "for i in range(1,N):\n",
    "    \n",
    "    Cards_Replace = np.empty(N, dtype = int)        #Initialise a set for 52-1 possible positions of the top card\n",
    "    \n",
    "    #Assign parts of the set with respect to the possible position of the top card\n",
    "    Cards_Replace[0:i] = Cards_Shuffle[1:i+1]\n",
    "    Cards_Replace[i] = Cards_Shuffle[0]\n",
    "    Cards_Replace[i+1:N] = Cards_Shuffle[i+1:N]\n",
    "    \n",
    "    #Add the outcome to the list\n",
    "    Possible_Cards_Replace.append(Cards_Replace)\n",
    "    \n",
    "#Possible_Cards_Replace"
   ]
  },
  {
   "cell_type": "markdown",
   "metadata": {},
   "source": [
    "### Step 3\n",
    "\n",
    "Check that the number of rising sequences in each replacement is at most r+1 = 9"
   ]
  },
  {
   "cell_type": "code",
   "execution_count": 39,
   "metadata": {
    "collapsed": false
   },
   "outputs": [
    {
     "data": {
      "text/plain": [
       "array([8, 8, 8, 8, 8, 8, 8, 8, 9, 9, 9, 9, 9, 9, 9, 9, 9, 9, 9, 9, 9, 9, 9,\n",
       "       9, 9, 9, 9, 9, 9, 9, 9, 9, 9, 9, 9, 9, 9, 9, 9, 9, 9, 9, 9, 9, 9, 8,\n",
       "       8, 8, 8, 8, 8, 8])"
      ]
     },
     "execution_count": 39,
     "metadata": {},
     "output_type": "execute_result"
    }
   ],
   "source": [
    "RSEQ = np.arange(N)                                #Initialise a set of the number of rising sequences for each array in\n",
    "                                                   #Possible_Cards_Replace\n",
    "    \n",
    "#Create a for loop to compute the number of rising sequences in each array of Possible_Cards_Replace\n",
    "for i in range(N):\n",
    "    RSEQ[i] = Rising_Seq(Possible_Cards_Replace[i])\n",
    "RSEQ    "
   ]
  },
  {
   "cell_type": "markdown",
   "metadata": {},
   "source": [
    "### Step 4\n",
    "\n",
    "Determine the probability of the magician wining with this technique i.e the probability of obtaining exactly 9 rising sequences"
   ]
  },
  {
   "cell_type": "code",
   "execution_count": 40,
   "metadata": {
    "collapsed": false
   },
   "outputs": [
    {
     "data": {
      "text/plain": [
       "Counter({8: 15, 9: 37})"
      ]
     },
     "execution_count": 40,
     "metadata": {},
     "output_type": "execute_result"
    }
   ],
   "source": [
    "Count = collections.Counter(RSEQ)               #Count the number of occurences of 8 and 9\n",
    "Count"
   ]
  },
  {
   "cell_type": "code",
   "execution_count": 41,
   "metadata": {
    "collapsed": false
   },
   "outputs": [
    {
     "data": {
      "text/plain": [
       "0.7115384615384616"
      ]
     },
     "execution_count": 41,
     "metadata": {},
     "output_type": "execute_result"
    }
   ],
   "source": [
    "Probability = Count[9]/N                        #Compute the probability of obtaining 9 rising sequences\n",
    "                                                #P = (Number of outcomes)/(Number of possible outcomes)\n",
    "Probability"
   ]
  },
  {
   "cell_type": "markdown",
   "metadata": {},
   "source": [
    "## Observation\n",
    "\n",
    "* It is observed from a number of tests that the probability of a magician winning a round of the trick is could be in the interval [0.71,0.82]\n",
    "\n",
    "* Also, it is observed that the magician less likely to select the right card if the card is placed towards the begining or towards the end of the deck\n",
    "\n",
    "\n",
    "**Note**:\n",
    "The computer simulations for the random interleave is not totally random as the only case considered here is when there is a single card in between two cards"
   ]
  },
  {
   "cell_type": "markdown",
   "metadata": {},
   "source": [
    "# Case 2\n",
    "\n",
    "Randomly place a random card in a deck and perform a 3-Riffle Shuffle"
   ]
  },
  {
   "cell_type": "markdown",
   "metadata": {},
   "source": [
    "### Step 1\n",
    "\n",
    "Randomly pick a card and place in the deck of cards"
   ]
  },
  {
   "cell_type": "markdown",
   "metadata": {},
   "source": [
    "Assume card #20 was picked"
   ]
  },
  {
   "cell_type": "code",
   "execution_count": 42,
   "metadata": {
    "collapsed": false
   },
   "outputs": [],
   "source": [
    "t = list(Cards).index(20)                                 #Obtain the position of the selected card in the ordered deck\n",
    "\n",
    "Possible_Cards_Replace2 = []                              #Initialise a list to compute the number of possible positions\n",
    "                                                          #of the card\n",
    "    \n",
    "Cards_Replace2 = np.empty(N, dtype = int)                 #Initialise the set for the location of the card at the first\n",
    "                                                          #position\n",
    "    \n",
    "#Assign parts of the set with the selected card at the top position.\n",
    "Cards_Replace2[0] = Cards[t]\n",
    "Cards_Replace2[1:t+1] = Cards[0:t]\n",
    "Cards_Replace2[t+1:N] = Cards[t+1:N]\n",
    "\n",
    "#Add the first set to the list\n",
    "Possible_Cards_Replace2.append(Cards_Replace2)\n",
    "\n",
    "for i in range(1,N):\n",
    "    \n",
    "    Cards_Replace3 = np.empty(N, dtype = int)             #Initialise the set for the location of the card across 52-1\n",
    "                                                          #possible positions\n",
    "        \n",
    "    #Assign parts of the set with respect to the possible position of the now top card\n",
    "    Cards_Replace3[0:i] = Cards_Replace2[1:i+1]\n",
    "    Cards_Replace3[i] = Cards_Replace2[0]\n",
    "    Cards_Replace3[i+1:N] = Cards_Replace2[i+1:N]\n",
    "    \n",
    "    #Add the possibilities to the list\n",
    "    Possible_Cards_Replace2.append(Cards_Replace3)\n",
    "    \n",
    "#Possible_Cards_Replace2"
   ]
  },
  {
   "cell_type": "markdown",
   "metadata": {},
   "source": [
    "### Step 2\n",
    "\n",
    "Perform a Riffle Shuffle on the deck of cards for each possible position"
   ]
  },
  {
   "cell_type": "code",
   "execution_count": 43,
   "metadata": {
    "collapsed": false
   },
   "outputs": [],
   "source": [
    "Card_Shuffle2 = []\n",
    "for i in range(N):\n",
    "    Card_Shuffle2.append(Riffle_Shuffle(Possible_Cards_Replace2[i],3))\n",
    "\n",
    "#Card_Shuffle2"
   ]
  },
  {
   "cell_type": "markdown",
   "metadata": {},
   "source": [
    "### Step 3\n",
    "\n",
    "Check that the number of rising sequences in the 3-Riffle Shuffle is 9"
   ]
  },
  {
   "cell_type": "code",
   "execution_count": 44,
   "metadata": {
    "collapsed": false
   },
   "outputs": [
    {
     "data": {
      "text/plain": [
       "array([8, 9, 9, 9, 9, 9, 8, 9, 9, 9, 9, 9, 9, 8, 9, 9, 9, 9, 9, 8, 9, 9, 9,\n",
       "       9, 9, 8, 9, 9, 9, 9, 9, 8, 9, 9, 9, 9, 9, 9, 8, 9, 9, 9, 9, 9, 8, 9,\n",
       "       9, 9, 9, 9, 9, 9])"
      ]
     },
     "execution_count": 44,
     "metadata": {},
     "output_type": "execute_result"
    }
   ],
   "source": [
    "RSEQ2 = np.arange(N)                                #Initialise a set of the number of rising sequences for each array in\n",
    "                                                    #Card_Shuffle2\n",
    "\n",
    "#Create a for loop to compute the number of rising sequences in each array of Card_Shuffle2\n",
    "for i in range(N):\n",
    "    RSEQ2[i] = Rising_Seq(Card_Shuffle2[i])\n",
    "RSEQ2    "
   ]
  },
  {
   "cell_type": "markdown",
   "metadata": {},
   "source": [
    "### Step 4\n",
    "\n",
    "Determine the Probability of the magician winning using this method"
   ]
  },
  {
   "cell_type": "code",
   "execution_count": 45,
   "metadata": {
    "collapsed": false
   },
   "outputs": [
    {
     "data": {
      "text/plain": [
       "Counter({8: 8, 9: 44})"
      ]
     },
     "execution_count": 45,
     "metadata": {},
     "output_type": "execute_result"
    }
   ],
   "source": [
    "Count = collections.Counter(RSEQ2)                  #Count the number of times 8 and 9 occur\n",
    "Count"
   ]
  },
  {
   "cell_type": "code",
   "execution_count": 46,
   "metadata": {
    "collapsed": false
   },
   "outputs": [
    {
     "data": {
      "text/plain": [
       "0.8461538461538461"
      ]
     },
     "execution_count": 46,
     "metadata": {},
     "output_type": "execute_result"
    }
   ],
   "source": [
    "Probability2 = Count[9]/N                           #Compute the probability of obtaining 9 rising sequences\n",
    "                                                    #P = (Number of outcomes)/(Number of possible outcomes)\n",
    "Probability2"
   ]
  },
  {
   "cell_type": "markdown",
   "metadata": {},
   "source": [
    "## Observation:\n",
    "\n",
    "It is observed that:\n",
    "\n",
    "* By randomly placing the selected card and doing a 3-Riffle Shuffle, a magician has a higher probability of winning the game.\n",
    "\n",
    "* Also, the magician is less likely to guess the card that was picked if the card was placed at the end or begining.\n",
    "\n",
    "**Note**:\n",
    "The computer simulations for the random interleave is not totally random as the only case considered here is when there is a single card in between two cards"
   ]
  },
  {
   "cell_type": "markdown",
   "metadata": {},
   "source": [
    "Before we conclude, it is useful to determine if the 9 rising sequences observed from each test is good enough for a magician to guess the card chosen\n",
    "\n",
    "That is, if the 9 rising sequences composes of eight rising sequences of at least two cards and a single rising sequence. For this, we will consider from each case 5 possibilities whose rising sequences are 9.\n",
    "\n",
    "\n",
    "Redefine the Rising Sequence function to give relevant output"
   ]
  },
  {
   "cell_type": "code",
   "execution_count": 47,
   "metadata": {
    "collapsed": true
   },
   "outputs": [],
   "source": [
    "def Rising_Seq(Array):\n",
    "    \n",
    "    #Parameters\n",
    "    N = len(Array)                                   #The length of the array\n",
    "    C = []                                           #Initialise a list to collect the ordered sequences\n",
    "    count = 0                                        #Initialise a count of the number of rising sequences\n",
    "    \n",
    "    #1. Create a for loop to go over each element of the array\n",
    "    for i in range(N):\n",
    "        CardI = Array[i]+1                           #for a Card number in the array comput CardI = Card number + 1\n",
    "        j = i\n",
    "        if Array[i] not in C:                        #Check that Card number is not already in the list\n",
    "            C.append(Array[i])\n",
    "            while CardI in Array[j+1:N] and j<N:     #Check that CardI is after the Card number in the array then append\n",
    "                C.append(CardI)\n",
    "                if CardI in Array:\n",
    "                    j = list(Array).index(CardI)     #Obtain the position of CardI\n",
    "                else:\n",
    "                    j = N\n",
    "                CardI+=1                             #With reference to the position of CardI compute the next Card number\n",
    "            count += 1                               #Count after a sequence has been recorded\n",
    "            \n",
    "    Result = print('Number of Rising Sequences: ',count,'\\n\\nRising Sequences:\\n',C)\n",
    "                \n",
    "    return Result                                    #Return the count and rising sequences."
   ]
  },
  {
   "cell_type": "markdown",
   "metadata": {},
   "source": [
    "## Test 1:\n",
    "\n",
    "Recall the top card in **Step 1**, **Case 1**"
   ]
  },
  {
   "cell_type": "code",
   "execution_count": 54,
   "metadata": {
    "collapsed": false
   },
   "outputs": [
    {
     "data": {
      "text/plain": [
       "[array([27, 20, 40, 34,  1, 47, 14,  8, 28,  7, 21, 41, 35,  2, 48, 15,  9,\n",
       "        29, 22, 42, 36,  3, 49, 16, 10, 30, 23, 43, 37,  4, 50, 17, 11, 31,\n",
       "        24, 44, 38,  5, 51, 18, 12, 32, 25, 45, 39,  6, 52, 19, 13, 33, 26,\n",
       "        46]),\n",
       " array([27, 20, 40, 34,  1, 47, 14,  8, 28, 21,  7, 41, 35,  2, 48, 15,  9,\n",
       "        29, 22, 42, 36,  3, 49, 16, 10, 30, 23, 43, 37,  4, 50, 17, 11, 31,\n",
       "        24, 44, 38,  5, 51, 18, 12, 32, 25, 45, 39,  6, 52, 19, 13, 33, 26,\n",
       "        46]),\n",
       " array([27, 20, 40, 34,  1, 47, 14,  8, 28, 21, 41,  7, 35,  2, 48, 15,  9,\n",
       "        29, 22, 42, 36,  3, 49, 16, 10, 30, 23, 43, 37,  4, 50, 17, 11, 31,\n",
       "        24, 44, 38,  5, 51, 18, 12, 32, 25, 45, 39,  6, 52, 19, 13, 33, 26,\n",
       "        46]),\n",
       " array([27, 20, 40, 34,  1, 47, 14,  8, 28, 21, 41, 35,  7,  2, 48, 15,  9,\n",
       "        29, 22, 42, 36,  3, 49, 16, 10, 30, 23, 43, 37,  4, 50, 17, 11, 31,\n",
       "        24, 44, 38,  5, 51, 18, 12, 32, 25, 45, 39,  6, 52, 19, 13, 33, 26,\n",
       "        46]),\n",
       " array([27, 20, 40, 34,  1, 47, 14,  8, 28, 21, 41, 35,  2,  7, 48, 15,  9,\n",
       "        29, 22, 42, 36,  3, 49, 16, 10, 30, 23, 43, 37,  4, 50, 17, 11, 31,\n",
       "        24, 44, 38,  5, 51, 18, 12, 32, 25, 45, 39,  6, 52, 19, 13, 33, 26,\n",
       "        46])]"
      ]
     },
     "execution_count": 54,
     "metadata": {},
     "output_type": "execute_result"
    }
   ],
   "source": [
    "Possible_Cards_Replace[9:14]"
   ]
  },
  {
   "cell_type": "markdown",
   "metadata": {},
   "source": [
    "Ananlyse the Rising Sequences in each case"
   ]
  },
  {
   "cell_type": "code",
   "execution_count": 55,
   "metadata": {
    "collapsed": false,
    "scrolled": false
   },
   "outputs": [
    {
     "name": "stdout",
     "output_type": "stream",
     "text": [
      "Number of Rising Sequences:  9 \n",
      "\n",
      "Rising Sequences:\n",
      " [27, 28, 29, 30, 31, 32, 33, 20, 21, 22, 23, 24, 25, 26, 40, 41, 42, 43, 44, 45, 46, 34, 35, 36, 37, 38, 39, 1, 2, 3, 4, 5, 6, 47, 48, 49, 50, 51, 52, 14, 15, 16, 17, 18, 19, 8, 9, 10, 11, 12, 13, 7]\n",
      "Number of Rising Sequences:  9 \n",
      "\n",
      "Rising Sequences:\n",
      " [27, 28, 29, 30, 31, 32, 33, 20, 21, 22, 23, 24, 25, 26, 40, 41, 42, 43, 44, 45, 46, 34, 35, 36, 37, 38, 39, 1, 2, 3, 4, 5, 6, 47, 48, 49, 50, 51, 52, 14, 15, 16, 17, 18, 19, 8, 9, 10, 11, 12, 13, 7]\n",
      "Number of Rising Sequences:  9 \n",
      "\n",
      "Rising Sequences:\n",
      " [27, 28, 29, 30, 31, 32, 33, 20, 21, 22, 23, 24, 25, 26, 40, 41, 42, 43, 44, 45, 46, 34, 35, 36, 37, 38, 39, 1, 2, 3, 4, 5, 6, 47, 48, 49, 50, 51, 52, 14, 15, 16, 17, 18, 19, 8, 9, 10, 11, 12, 13, 7]\n",
      "Number of Rising Sequences:  9 \n",
      "\n",
      "Rising Sequences:\n",
      " [27, 28, 29, 30, 31, 32, 33, 20, 21, 22, 23, 24, 25, 26, 40, 41, 42, 43, 44, 45, 46, 34, 35, 36, 37, 38, 39, 1, 2, 3, 4, 5, 6, 47, 48, 49, 50, 51, 52, 14, 15, 16, 17, 18, 19, 8, 9, 10, 11, 12, 13, 7]\n",
      "Number of Rising Sequences:  9 \n",
      "\n",
      "Rising Sequences:\n",
      " [27, 28, 29, 30, 31, 32, 33, 20, 21, 22, 23, 24, 25, 26, 40, 41, 42, 43, 44, 45, 46, 34, 35, 36, 37, 38, 39, 1, 2, 3, 4, 5, 6, 47, 48, 49, 50, 51, 52, 14, 15, 16, 17, 18, 19, 8, 9, 10, 11, 12, 13, 7]\n"
     ]
    }
   ],
   "source": [
    "for i in range(5):\n",
    "    Rising_Seq(Possible_Cards_Replace[9+i])"
   ]
  },
  {
   "cell_type": "markdown",
   "metadata": {},
   "source": [
    "## Observation\n",
    "\n",
    "Notice that in each array there is only one single rising sequence which makes it is easier for the magician to determine the selected card from the shuffled deck."
   ]
  },
  {
   "cell_type": "markdown",
   "metadata": {},
   "source": [
    "## Test 2\n",
    "\n",
    "Recall the selected card in **Step 1**, **Case 2**"
   ]
  },
  {
   "cell_type": "code",
   "execution_count": 50,
   "metadata": {
    "collapsed": false
   },
   "outputs": [
    {
     "data": {
      "text/plain": [
       "[array([ 1, 33, 13, 46, 27,  7, 40, 21, 20, 34, 14, 47, 28,  8, 41, 22,  2,\n",
       "        35, 15, 48, 29,  9, 42, 23,  3, 36, 16, 49, 30, 10, 43, 24,  4, 37,\n",
       "        17, 50, 31, 11, 44, 25,  5, 38, 18, 51, 32, 12, 45, 26,  6, 39, 19,\n",
       "        52]),\n",
       " array([13, 46,  1, 33, 40, 21, 27,  7, 14, 47,  2, 34, 41, 22, 28,  8, 15,\n",
       "        48, 20, 35, 42, 23, 29,  9, 16, 49,  3, 36, 43, 24, 30, 10, 17, 50,\n",
       "         4, 37, 44, 25, 31, 11, 18, 51,  5, 38, 45, 26, 32, 12, 19, 52,  6,\n",
       "        39]),\n",
       " array([40, 19, 27,  6, 13, 47,  1, 34, 41, 21, 28,  7, 14, 48,  2, 35, 42,\n",
       "        22, 29,  8, 15, 49,  3, 36, 43, 23, 30,  9, 16, 50, 20, 37, 44, 24,\n",
       "        31, 10, 17, 51,  4, 38, 45, 25, 32, 11, 18, 52,  5, 39, 46, 26, 33,\n",
       "        12]),\n",
       " array([46, 13, 33,  1, 21, 40,  7, 27, 47, 14, 34,  2, 22, 41,  8, 28, 48,\n",
       "        15, 35,  3, 23, 42,  9, 29, 49, 16, 36,  4, 24, 43, 10, 30, 50, 17,\n",
       "        37, 20, 25, 44, 11, 31, 51, 18, 38,  5, 26, 45, 12, 32, 52, 19, 39,\n",
       "         6]),\n",
       " array([40, 19, 27,  6, 13, 47,  1, 34, 41, 21, 28,  7, 14, 48,  2, 35, 42,\n",
       "        22, 29,  8, 15, 49,  3, 36, 43, 23, 30,  9, 16, 50,  4, 37, 44, 24,\n",
       "        31, 10, 17, 51,  5, 38, 45, 25, 32, 11, 18, 52, 20, 39, 46, 26, 33,\n",
       "        12])]"
      ]
     },
     "execution_count": 50,
     "metadata": {},
     "output_type": "execute_result"
    }
   ],
   "source": [
    "Card_Shuffle2[1:6]"
   ]
  },
  {
   "cell_type": "markdown",
   "metadata": {},
   "source": [
    "Analyse the Rising sequences"
   ]
  },
  {
   "cell_type": "code",
   "execution_count": 52,
   "metadata": {
    "collapsed": false
   },
   "outputs": [
    {
     "name": "stdout",
     "output_type": "stream",
     "text": [
      "Number of Rising Sequences:  9 \n",
      "\n",
      "Rising Sequences:\n",
      " [1, 2, 3, 4, 5, 6, 33, 34, 35, 36, 37, 38, 39, 13, 14, 15, 16, 17, 18, 19, 46, 47, 48, 49, 50, 51, 52, 27, 28, 29, 30, 31, 32, 7, 8, 9, 10, 11, 12, 40, 41, 42, 43, 44, 45, 21, 22, 23, 24, 25, 26, 20]\n",
      "Number of Rising Sequences:  9 \n",
      "\n",
      "Rising Sequences:\n",
      " [13, 14, 15, 16, 17, 18, 19, 46, 47, 48, 49, 50, 51, 52, 1, 2, 3, 4, 5, 6, 33, 34, 35, 36, 37, 38, 39, 40, 41, 42, 43, 44, 45, 21, 22, 23, 24, 25, 26, 27, 28, 29, 30, 31, 32, 7, 8, 9, 10, 11, 12, 20]\n",
      "Number of Rising Sequences:  9 \n",
      "\n",
      "Rising Sequences:\n",
      " [40, 41, 42, 43, 44, 45, 46, 19, 20, 27, 28, 29, 30, 31, 32, 33, 6, 7, 8, 9, 10, 11, 12, 13, 14, 15, 16, 17, 18, 47, 48, 49, 50, 51, 52, 1, 2, 3, 4, 5, 34, 35, 36, 37, 38, 39, 21, 22, 23, 24, 25, 26]\n",
      "Number of Rising Sequences:  9 \n",
      "\n",
      "Rising Sequences:\n",
      " [46, 47, 48, 49, 50, 51, 52, 13, 14, 15, 16, 17, 18, 19, 33, 34, 35, 36, 37, 38, 39, 1, 2, 3, 4, 5, 6, 21, 22, 23, 24, 25, 26, 40, 41, 42, 43, 44, 45, 7, 8, 9, 10, 11, 12, 27, 28, 29, 30, 31, 32, 20]\n",
      "Number of Rising Sequences:  9 \n",
      "\n",
      "Rising Sequences:\n",
      " [40, 41, 42, 43, 44, 45, 46, 19, 20, 27, 28, 29, 30, 31, 32, 33, 6, 7, 8, 9, 10, 11, 12, 13, 14, 15, 16, 17, 18, 47, 48, 49, 50, 51, 52, 1, 2, 3, 4, 5, 34, 35, 36, 37, 38, 39, 21, 22, 23, 24, 25, 26]\n"
     ]
    }
   ],
   "source": [
    "for i in range(5):\n",
    "    Rising_Seq(Card_Shuffle2[1+i])"
   ]
  },
  {
   "cell_type": "markdown",
   "metadata": {},
   "source": [
    "## Observation\n",
    "\n",
    "Notice that in almost all arrays there are at least two rising sequences which makes it difficult to guess which card was selected from the ordered deck."
   ]
  },
  {
   "cell_type": "markdown",
   "metadata": {},
   "source": [
    "# Conclusion"
   ]
  },
  {
   "cell_type": "code",
   "execution_count": 53,
   "metadata": {
    "collapsed": false
   },
   "outputs": [
    {
     "data": {
      "image/png": "[encoded data removed]",
      "text/plain": [
       "<matplotlib.figure.Figure at 0x7ff8389990b8>"
      ]
     },
     "metadata": {},
     "output_type": "display_data"
    }
   ],
   "source": [
    "plt.subplot(1,2,1)\n",
    "plt.plot(RSEQ,'green')\n",
    "plt.xlabel('Positions of the selected card')\n",
    "plt.ylabel('Number of Rising Sequences')\n",
    "plt.title('Rising sequence plot for Case 1\\n')\n",
    "plt.grid(True)\n",
    "plt.subplot(1,2,2)\n",
    "plt.plot(RSEQ2, 'magenta')\n",
    "plt.xlabel('Positions of the selected card')\n",
    "plt.ylabel('Number of Rising Sequences')\n",
    "plt.title('Rising sequence plot for Case 2\\n')\n",
    "plt.grid(True)\n",
    "plt.subplots_adjust(left=0.5,right=2.5)\n",
    "plt.show()"
   ]
  },
  {
   "cell_type": "markdown",
   "metadata": {},
   "source": [
    "From the Observations recorded in the report and with the last test, it is conclusive that a Magician who chooses to perform a 3 riffle shuffle then replacement of the top card has lower probability of picking the right card than a Magician who allows replacement of a randomly selected card before the 3-riffle shuffle.\n",
    "\n",
    "However, the test and the above graph of the Rising sequences obtained from both cases shows that although the probability of picking the right card in the first case is less, a Magician is more likely to select the right card under some conditions than with the case with the higher probability which depends mostly on a lucky guess between the selected card and another card as shown in the above example."
   ]
  },
  {
   "cell_type": "code",
   "execution_count": null,
   "metadata": {
    "collapsed": true
   },
   "outputs": [],
   "source": []
  }
 ],
 "metadata": {
  "kernelspec": {
   "display_name": "Python 3",
   "language": "python",
   "name": "python3"
  },
  "language_info": {
   "codemirror_mode": {
    "name": "ipython",
    "version": 3
   },
   "file_extension": ".py",
   "mimetype": "text/x-python",
   "name": "python",
   "nbconvert_exporter": "python",
   "pygments_lexer": "ipython3",
   "version": "3.5.3"
  }
 },
 "nbformat": 4,
 "nbformat_minor": 2
}
