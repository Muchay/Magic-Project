{
 "cells": [
  {
   "cell_type": "markdown",
   "metadata": {},
   "source": [
    "# Random Systems : Card Trick Case 1&2\n",
    "\n",
    "\n",
    "\n",
    "## Nneka Maureen Okolo\n",
    "\n",
    "## 29/12/2018\n"
   ]
  },
  {
   "cell_type": "code",
   "execution_count": 1,
   "metadata": {
    "collapsed": true
   },
   "outputs": [],
   "source": [
    "import numpy as np\n",
    "\n",
    "import itertools\n",
    "\n",
    "import random\n",
    "\n",
    "import collections\n",
    "\n",
    "import matplotlib.pyplot as plt"
   ]
  },
  {
   "cell_type": "markdown",
   "metadata": {},
   "source": [
    "# Analysis:\n",
    "\n",
    "We want to check the probability of a Magician winning by:\n",
    "\n",
    "* Performing a Riffle Shuffle three times then selecting a random card and replacing it in the shuffled deck\n",
    "* Randomly placing a random card in an ordered deck and performing a Riffle Shuffle three times\n"
   ]
  },
  {
   "cell_type": "markdown",
   "metadata": {},
   "source": [
    "# Tools"
   ]
  },
  {
   "cell_type": "markdown",
   "metadata": {},
   "source": [
    "* Define a function to compute the number of rising sequences in an array"
   ]
  },
  {
   "cell_type": "code",
   "execution_count": 2,
   "metadata": {
    "collapsed": false
   },
   "outputs": [],
   "source": [
    "def Rising_Seq(Array):\n",
    "    \n",
    "    #Parameters\n",
    "    N = len(Array)                                   #The length of the array\n",
    "    C = []                                           #Initialise a list to collect the ordered sequences\n",
    "    count = 0                                        #Initialise a count of the number of rising sequences\n",
    "    \n",
    "    #1. Create a for loop to go over each element of the array\n",
    "    for i in range(N):\n",
    "        CardI = Array[i]+1                           #for a Card number in the array comput CardI = Card number + 1\n",
    "        j = i\n",
    "        if Array[i] not in C:                        #Check that Card number is not already in the list\n",
    "            C.append(Array[i])\n",
    "            while CardI in Array[j+1:N] and j<N:     #Check that CardI is after the Card number in the array then append\n",
    "                C.append(CardI)\n",
    "                if CardI in Array:\n",
    "                    j = list(Array).index(CardI)     #Obtain the position of CardI\n",
    "                else:\n",
    "                    j = N\n",
    "                CardI+=1                             #With reference to the position of CardI compute the next Card number\n",
    "            count += 1                               #Count after a sequence has been recorded\n",
    "            \n",
    "    #Result = print('Number of Rising Sequences: ',count,'\\n\\nRising Sequences:\\n',C)\n",
    "    return count                                     #Return the count which is the number of rising sequences."
   ]
  },
  {
   "cell_type": "markdown",
   "metadata": {},
   "source": [
    "* Define a function to compute N riffle shuffles of an array"
   ]
  },
  {
   "cell_type": "code",
   "execution_count": 3,
   "metadata": {
    "collapsed": false
   },
   "outputs": [],
   "source": [
    "#Define a riffle shuffle\n",
    "\n",
    "def Riffle_Shuffle(Array, N):\n",
    "    \n",
    "    #Parameters\n",
    "    NT = len(Array)                                  #The length of the array\n",
    "    NS = N                                           #Number of required Riffle shuffles on the array\n",
    "    i = 0                                            #Initialise the number of Riffle shuffles\n",
    "    \n",
    "    \n",
    "    #1. Create a while loop to run a riffle shuffle on the same array.\n",
    "    while i < NS:\n",
    "        \n",
    "        if NT%2 == 0:                                #If the length of the array is even\n",
    "            cut = NT//2                              #Divide the array into two equal parts\n",
    "            A = Array[0:cut]                         #Assign the first half of the array to A\n",
    "            B = Array[cut: NT]                       #Assign the second half of the array to B\n",
    "            E = np.random.randint(0,2)               #Include randomness to reduce the likeliness of the top or\n",
    "                                                     #bottom cards being in the same position\n",
    "            if E == 0:\n",
    "                Array = np.empty((A.size + B.size,), dtype=int)\n",
    "                Array[0::2] = A\n",
    "                Array[1::2] = B\n",
    "            if E == 1:\n",
    "                Array = np.empty((A.size + B.size,), dtype=int)\n",
    "                Array[1::2] = A\n",
    "                Array[0::2] = B\n",
    "                \n",
    "        if NT%2 == 1:                                #If the length of the array is odd\n",
    "            cut = NT//2 + 1                          #Divide the array into two unequal parts\n",
    "            E = np.random.randint(0,2)               #Include randomness to reduce the likeliness of the top or bottom\n",
    "                                                     #unequal Cards being in the same position\n",
    "                \n",
    "            if E == 0:\n",
    "                A = Array[0:cut]                     #Assign the larger half of the array to A\n",
    "                B = Array[cut: NT]                   #Assign the smaller half of the array to B\n",
    "                Array = np.empty((A.size + B.size,), dtype=int)\n",
    "                Array[0::2] = A\n",
    "                Array[1::2] = B \n",
    "            if E == 1:\n",
    "                A = Array[0:cut-1]                   #Assign the smaller half of the array to A\n",
    "                B = Array[cut-1: NT]                 #Assign the larger half of the array to B\n",
    "                Array = np.empty((A.size + B.size,), dtype=int)\n",
    "                Array[0::2] = B\n",
    "                Array[1::2] = A\n",
    "        i+=1                                         #increase the counter till NS Riffle Shuffles are complete\n",
    "        \n",
    "    return Array                                     #Return the shuffled array                                    "
   ]
  },
  {
   "cell_type": "markdown",
   "metadata": {},
   "source": [
    "* Define a function to compute the possible placements of a card"
   ]
  },
  {
   "cell_type": "code",
   "execution_count": 4,
   "metadata": {
    "collapsed": true
   },
   "outputs": [],
   "source": [
    "def Possible_Card_Placement(card,Array):\n",
    "\n",
    "    j = list(Array).index(card)                          #Obtain the position of the selected card in the ordered deck\n",
    "\n",
    "    Possible_Cards_Replace = []                          #Initialise a list to compute the number of possible positions\n",
    "                                                         #of the card\n",
    "        \n",
    "    Cards_Replace = np.empty(N, dtype = int)             #Initialise the set for the location of the card at the first\n",
    "                                                         #position  \n",
    "        \n",
    "    #Assign parts of the set with the selected card at the top position.\n",
    "    Cards_Replace[0] = Array[j]\n",
    "    Cards_Replace[1:j+1] = Array[0:j]\n",
    "    Cards_Replace[j+1:N] = Array[j+1:N]\n",
    "\n",
    "    #Add the first set to the list\n",
    "    Possible_Cards_Replace.append(Cards_Replace)\n",
    "\n",
    "    for i in range(1,N):\n",
    "    \n",
    "        Cards_Replace1 = np.empty(N, dtype = int)         #Initialise the set for the position of the card across 52-1\n",
    "                                                          #possible positions\n",
    "        \n",
    "        #Assign parts of the set with respect to the possible position of the now top card\n",
    "        Cards_Replace1[0:i] = Cards_Replace[1:i+1]\n",
    "        Cards_Replace1[i] = Cards_Replace[0]\n",
    "        Cards_Replace1[i+1:N] = Cards_Replace[i+1:N]\n",
    "    \n",
    "        #Add the possibilities to the list\n",
    "        Possible_Cards_Replace.append(Cards_Replace1)\n",
    "    \n",
    "    return Possible_Cards_Replace"
   ]
  },
  {
   "cell_type": "markdown",
   "metadata": {},
   "source": [
    "* Define the Deck of cards"
   ]
  },
  {
   "cell_type": "code",
   "execution_count": 7,
   "metadata": {
    "collapsed": false
   },
   "outputs": [
    {
     "name": "stdout",
     "output_type": "stream",
     "text": [
      "Number of cards in a deck: 52\n"
     ]
    }
   ],
   "source": [
    "#Parameters\n",
    "\n",
    "N = int(input('Number of cards in a deck: '))           #Number of Cards in a Deck\n",
    "Cards = np.arange(1,N+1)                                #Initialise a deck with N cards"
   ]
  },
  {
   "cell_type": "code",
   "execution_count": 6,
   "metadata": {
    "collapsed": false
   },
   "outputs": [],
   "source": [
    "#To obtain all Permutations of the deck of Cards\n",
    "\n",
    "#Cards_Iterations = list(itertools.permutations(Cards))\n",
    "#Cards_Iterations"
   ]
  },
  {
   "cell_type": "markdown",
   "metadata": {},
   "source": [
    "## Case 1:\n",
    "\n",
    "Performing a Riffle Shuffle three times then selecting a random card and replacing it in the shuffled deck"
   ]
  },
  {
   "cell_type": "markdown",
   "metadata": {},
   "source": [
    "### Step 1:\n",
    "Perform a Riffle Shuffle three times on an ordered deck of 52 cards"
   ]
  },
  {
   "cell_type": "code",
   "execution_count": 8,
   "metadata": {
    "collapsed": false
   },
   "outputs": [
    {
     "name": "stdout",
     "output_type": "stream",
     "text": [
      "Shuffled Deck: \n",
      "\n",
      " [46 14 33  1 21 40  8 27 47 15 34  2 22 41  9 28 48 16 35  3 23 42 10 29 49\n",
      " 17 36  4 24 43 11 30 50 18 37  5 25 44 12 31 51 19 38  6 26 45 13 32 52 20\n",
      " 39  7]\n"
     ]
    }
   ],
   "source": [
    "Cards_Shuffle = Riffle_Shuffle(Cards,3)\n",
    "print('Shuffled Deck: \\n\\n',Cards_Shuffle)"
   ]
  },
  {
   "cell_type": "markdown",
   "metadata": {},
   "source": [
    "* Check that the number of rising sequences is 8"
   ]
  },
  {
   "cell_type": "code",
   "execution_count": 9,
   "metadata": {
    "collapsed": false
   },
   "outputs": [
    {
     "name": "stdout",
     "output_type": "stream",
     "text": [
      "Number of Rising Sequences in the Shuffled Deck:  8\n"
     ]
    }
   ],
   "source": [
    "n = Rising_Seq(Cards_Shuffle)\n",
    "print('Number of Rising Sequences in the Shuffled Deck: ',n)"
   ]
  },
  {
   "cell_type": "markdown",
   "metadata": {},
   "source": [
    "### Step 2\n",
    "\n",
    "Select a card say #15 and replace it randomly in the shuffled deck:\n",
    "\n",
    "**Assumption**:\n",
    "\n",
    "The magician is not looking"
   ]
  },
  {
   "cell_type": "code",
   "execution_count": 10,
   "metadata": {
    "collapsed": false
   },
   "outputs": [],
   "source": [
    "Selected_card = 15\n",
    "Possible_Cards_Replace = Possible_Card_Placement(Selected_card,Cards_Shuffle)\n",
    "#Possible_Cards_Replace"
   ]
  },
  {
   "cell_type": "markdown",
   "metadata": {},
   "source": [
    "### Step 3\n",
    "\n",
    "Check that the number of rising sequences in each replacement is at most r+1 = 9"
   ]
  },
  {
   "cell_type": "code",
   "execution_count": 11,
   "metadata": {
    "collapsed": false
   },
   "outputs": [
    {
     "name": "stdout",
     "output_type": "stream",
     "text": [
      "Number of Rising Sequences for each possible position of Card #15:\n",
      "\n",
      "[9 9 8 8 8 8 8 8 8 8 8 8 8 8 8 8 8 9 9 9 9 9 9 9 9 9 9 9 9 9 9 9 9 9 9 9 9\n",
      " 9 9 9 9 9 9 9 9 9 9 9 9 9 9 9]\n"
     ]
    }
   ],
   "source": [
    "#Initialise a set of the number of rising sequences for each array in Possible_Cards_Replace\n",
    "RSEQ = np.arange(N)\n",
    "    \n",
    "#Create a for loop to compute the number of rising sequences in each array of Possible_Cards_Replace\n",
    "for i in range(N):\n",
    "    RSEQ[i] = Rising_Seq(Possible_Cards_Replace[i])\n",
    "print('Number of Rising Sequences for each possible position of Card #{}:\\n\\n{}'.format(Selected_card,RSEQ))    "
   ]
  },
  {
   "cell_type": "markdown",
   "metadata": {},
   "source": [
    "### Step 4\n",
    "\n",
    "Determine the probability of the magician wining with this technique i.e the probability of obtaining exactly 9 rising sequences"
   ]
  },
  {
   "cell_type": "code",
   "execution_count": 19,
   "metadata": {
    "collapsed": false
   },
   "outputs": [
    {
     "name": "stdout",
     "output_type": "stream",
     "text": [
      "Probability of a Magician winning for any possible positions of Card #15 is 0.7115384615384616\n"
     ]
    }
   ],
   "source": [
    "#Count the number of occurences of 8 and 9\n",
    "Count = collections.Counter(RSEQ)               \n",
    "#Count\n",
    "\n",
    "#Compute the probability of obtaining 9 rising sequences\n",
    "Probability = Count[9]/N                                 #P = (Number of outcomes)/(Number of possible outcomes)       \n",
    "print('Probability of a Magician winning for any possible positions of Card #{} is {}'.format(Selected_card,Probability))"
   ]
  },
  {
   "cell_type": "markdown",
   "metadata": {},
   "source": [
    "## Case 1 Simulation"
   ]
  },
  {
   "cell_type": "markdown",
   "metadata": {},
   "source": [
    "Determine the range of probabilities of a Magician winning a round with **any** card picked and replaced randomly in the shuffled deck Cards_Shuffle"
   ]
  },
  {
   "cell_type": "code",
   "execution_count": 13,
   "metadata": {
    "collapsed": false
   },
   "outputs": [],
   "source": [
    "Collective_Probability = []\n",
    "\n",
    "for card in Cards_Shuffle:\n",
    "    \n",
    "    Possible_Cards_Replace1 = Possible_Card_Placement(card,Cards_Shuffle)\n",
    "    \n",
    "    #Initialise a set of the number of rising sequences for each array in Possible_Cards_Replace\n",
    "    RSEQ1 = np.arange(N)                        \n",
    "    \n",
    "    #Create a for loop to compute the number of rising sequences in each array of Possible_Cards_Replace\n",
    "    for i in range(N):\n",
    "        RSEQ1[i] = Rising_Seq(Possible_Cards_Replace1[i])\n",
    "    \n",
    "    #Count the number of occurences of 8 and 9\n",
    "    Count1 = collections.Counter(RSEQ1)               \n",
    "    \n",
    "    Probability1 = Count1[9]/N                        #Compute the probability of obtaining 9 rising sequences\n",
    "                                                #P = (Number of outcomes)/(Number of possible outcomes)\n",
    "    Collective_Probability.append(Probability1)\n",
    "    \n",
    "#Collective_Probability"
   ]
  },
  {
   "cell_type": "code",
   "execution_count": 14,
   "metadata": {
    "collapsed": false
   },
   "outputs": [
    {
     "data": {
      "image/png": "[encoded data removed]",
      "text/plain": [
       "<matplotlib.figure.Figure at 0x7fdaea77f9e8>"
      ]
     },
     "metadata": {},
     "output_type": "display_data"
    }
   ],
   "source": [
    "plt.plot(Cards_Shuffle,Collective_Probability,'o')\n",
    "plt.title('CASE 1: PROBABILITY OF A WIN WITH ANY CARD\\n')\n",
    "plt.xlabel('Selected Cards')\n",
    "plt.ylabel('Probability of win')\n",
    "plt.show()"
   ]
  },
  {
   "cell_type": "markdown",
   "metadata": {},
   "source": [
    "## Observation\n",
    "\n",
    "* It is observed from Steps 1-4 that the probability of a magician finding the selected card #15 is 0.711.\n",
    "\n",
    "* From the Case 1 Simulation, we observe that the probability of a Magician winning this round for any deck selected and replaced in the shuffled deck is in the range [0.55,0.80]\n",
    "\n",
    "\n",
    "**Note**:\n",
    "The computer simulations for the random interleave is not totally random as the only case considered here is when there is a single card in between two cards"
   ]
  },
  {
   "cell_type": "markdown",
   "metadata": {},
   "source": [
    "# Case 2\n",
    "\n",
    "Randomly placing a random card in an ordered deck and performing a Riffle Shuffle three times"
   ]
  },
  {
   "cell_type": "markdown",
   "metadata": {},
   "source": [
    "### Step 1\n",
    "\n",
    "Randomly pick a card and replace it in the ordered deck of cards:\n",
    "\n",
    "**Assumption**\n",
    "\n",
    "The magician is not looking"
   ]
  },
  {
   "cell_type": "markdown",
   "metadata": {},
   "source": [
    "Assume card #20 was picked"
   ]
  },
  {
   "cell_type": "code",
   "execution_count": 15,
   "metadata": {
    "collapsed": false
   },
   "outputs": [],
   "source": [
    "Selected_card1 = 20\n",
    "Possible_Cards_Replace2 = Possible_Card_Placement(Selected_card1,Cards)\n",
    "#Possible_Cards_Replace2"
   ]
  },
  {
   "cell_type": "markdown",
   "metadata": {},
   "source": [
    "### Step 2\n",
    "\n",
    "Perform a Riffle Shuffle on the deck of cards for each possible position"
   ]
  },
  {
   "cell_type": "code",
   "execution_count": 16,
   "metadata": {
    "collapsed": false
   },
   "outputs": [],
   "source": [
    "Card_Shuffle2 = []\n",
    "for i in range(N):\n",
    "    Card_Shuffle2.append(Riffle_Shuffle(Possible_Cards_Replace2[i],3))\n",
    "\n",
    "#Card_Shuffle2"
   ]
  },
  {
   "cell_type": "markdown",
   "metadata": {},
   "source": [
    "### Step 3\n",
    "\n",
    "Check that the number of rising sequences in the 3-Riffle Shuffle is at most 9"
   ]
  },
  {
   "cell_type": "code",
   "execution_count": 17,
   "metadata": {
    "collapsed": false
   },
   "outputs": [
    {
     "name": "stdout",
     "output_type": "stream",
     "text": [
      "Number of Rising Sequences for each possible position of Card #20:\n",
      "\n",
      "[8 9 9 9 9 9 9 9 9 9 9 9 9 8 9 9 9 9 9 8 9 9 9 9 9 8 9 9 9 9 9 8 9 9 9 9 9\n",
      " 9 9 9 9 9 9 9 9 8 9 9 9 9 9 8]\n"
     ]
    }
   ],
   "source": [
    "#Initialise a set of the number of rising sequences for each array in Card_Shuffle2\n",
    "RSEQ2 = np.arange(N)                                \n",
    "\n",
    "#Create a for loop to compute the number of rising sequences in each array of Card_Shuffle2\n",
    "for i in range(N):\n",
    "    RSEQ2[i] = Rising_Seq(Card_Shuffle2[i])\n",
    "print('Number of Rising Sequences for each possible position of Card #{}:\\n\\n{}'.format(Selected_card1,RSEQ2))    "
   ]
  },
  {
   "cell_type": "markdown",
   "metadata": {},
   "source": [
    "### Step 4\n",
    "\n",
    "Determine the Probability of the magician winning using this method"
   ]
  },
  {
   "cell_type": "code",
   "execution_count": 21,
   "metadata": {
    "collapsed": false
   },
   "outputs": [
    {
     "name": "stdout",
     "output_type": "stream",
     "text": [
      "Probability of a Magician winning for any possible positions of Card #20 is 0.8653846153846154\n"
     ]
    }
   ],
   "source": [
    "#Count the number of times 8 and 9 occur\n",
    "Count2 = collections.Counter(RSEQ2) \n",
    "#Count2\n",
    "\n",
    "#Compute the probability of obtaining 9 rising sequences\n",
    "Probability2 = Count2[9]/N                                #P = (Number of outcomes)/(Number of possible outcomes)                                               \n",
    "print('Probability of a Magician winning for any possible positions of Card #{} is {}'.format(Selected_card1,Probability2))"
   ]
  },
  {
   "cell_type": "markdown",
   "metadata": {},
   "source": [
    "## Case 2 Simulation"
   ]
  },
  {
   "cell_type": "markdown",
   "metadata": {},
   "source": [
    "Determine the range of probabilities of a Magician winning **a round** with **any** card picked and replaced randomly in the shuffled deck Cards_Shuffle"
   ]
  },
  {
   "cell_type": "code",
   "execution_count": 22,
   "metadata": {
    "collapsed": true
   },
   "outputs": [],
   "source": [
    "Collective_Probability2 = []\n",
    "\n",
    "for card in Cards:\n",
    "    \n",
    "    Possible_Cards_Replace3 = Possible_Card_Placement(card,Cards)\n",
    "    \n",
    "    Card_Shuffle3 = []\n",
    "    for i in range(N):\n",
    "        Card_Shuffle3.append(Riffle_Shuffle(Possible_Cards_Replace3[i],3))\n",
    "\n",
    "    #Initialise a set of the number of rising sequences for each array in Card_Shuffle2\n",
    "    RSEQ3 = np.arange(N)                           \n",
    "    \n",
    "    #Create a for loop to compute the number of rising sequences in each array of Possible_Cards_Replace\n",
    "    for i in range(N):\n",
    "        RSEQ3[i] = Rising_Seq(Card_Shuffle3[i])\n",
    "    \n",
    "    #Count the number of occurences of 8 and 9\n",
    "    Count3 = collections.Counter(RSEQ3)               \n",
    "    \n",
    "    Probability3 = Count3[9]/N                        #Compute the probability of obtaining 9 rising sequences\n",
    "                                                      #P = (Number of outcomes)/(Number of possible outcomes)\n",
    "    Collective_Probability2.append(Probability3)\n",
    "    \n",
    "#Collective_Probability2"
   ]
  },
  {
   "cell_type": "code",
   "execution_count": 23,
   "metadata": {
    "collapsed": false
   },
   "outputs": [
    {
     "data": {
      "image/png": "[encoded data removed]",
      "text/plain": [
       "<matplotlib.figure.Figure at 0x7fdaea6c0198>"
      ]
     },
     "metadata": {},
     "output_type": "display_data"
    }
   ],
   "source": [
    "plt.plot(Cards,Collective_Probability2,'o')\n",
    "plt.title('Case 2: PROBABILITY OF A WIN WITH A SELECTED CARD\\n')\n",
    "plt.xlabel('Selected Cards')\n",
    "plt.ylabel('Probability of win')\n",
    "plt.show()"
   ]
  },
  {
   "cell_type": "markdown",
   "metadata": {},
   "source": [
    "## Observation:\n",
    "\n",
    "It is observed that:\n",
    "\n",
    "* It is observed from Steps 1-4 that the probability of a magician finding the selected card #20 is 0.78.\n",
    "\n",
    "* From a partcicular round of the Case 2 Simulation, we observe that the probability of a Magician to win the round is in the range [0.77,0.97].\n",
    "\n",
    "These outcomes are higher than those observed in Case 1\n",
    "\n",
    "**Note**:\n",
    "\n",
    "* The computer simulations for the random interleave is not totally random as the only case considered here is when there is a single card in between two cards.\n",
    "\n",
    "* For each card selected in the Case 2 Simulation, the shuffle is not the same."
   ]
  },
  {
   "cell_type": "markdown",
   "metadata": {},
   "source": [
    "## Interlude"
   ]
  },
  {
   "cell_type": "markdown",
   "metadata": {},
   "source": [
    "Before we conclude, it is useful to determine if the 9 rising sequences observed from each test is good enough for a magician to guess the card chosen\n",
    "\n",
    "That is, if the 9 rising sequences composes of eight rising sequences of at least two cards and a single rising sequence. For this, we will consider from each case 5 possibilities whose rising sequences are 9.\n",
    "\n",
    "\n",
    "Redefine the Rising Sequence function to give relevant output"
   ]
  },
  {
   "cell_type": "code",
   "execution_count": 24,
   "metadata": {
    "collapsed": true
   },
   "outputs": [],
   "source": [
    "def Rising_Seq(Array):\n",
    "    \n",
    "    #Parameters\n",
    "    N = len(Array)                                   #The length of the array\n",
    "    C = []                                           #Initialise a list to collect the ordered sequences\n",
    "    count = 0                                        #Initialise a count of the number of rising sequences\n",
    "    \n",
    "    #1. Create a for loop to go over each element of the array\n",
    "    for i in range(N):\n",
    "        CardI = Array[i]+1                           #for a Card number in the array comput CardI = Card number + 1\n",
    "        j = i\n",
    "        if Array[i] not in C:                        #Check that Card number is not already in the list\n",
    "            C.append(Array[i])\n",
    "            while CardI in Array[j+1:N] and j<N:     #Check that CardI is after the Card number in the array then append\n",
    "                C.append(CardI)\n",
    "                if CardI in Array:\n",
    "                    j = list(Array).index(CardI)     #Obtain the position of CardI\n",
    "                else:\n",
    "                    j = N\n",
    "                CardI+=1                             #With reference to the position of CardI compute the next Card number\n",
    "            count += 1                               #Count after a sequence has been recorded\n",
    "            \n",
    "    Result = print('Number of Rising Sequences: ',count,'\\n\\nRising Sequences:\\n',C)\n",
    "                \n",
    "    return Result                                    #Return the count and rising sequences."
   ]
  },
  {
   "cell_type": "markdown",
   "metadata": {},
   "source": [
    "## Test 1:\n",
    "\n",
    "Recall the selected card in **Step 1**, **Case 1**"
   ]
  },
  {
   "cell_type": "code",
   "execution_count": 27,
   "metadata": {
    "collapsed": false
   },
   "outputs": [
    {
     "data": {
      "text/plain": [
       "[array([46, 14, 33,  1, 21, 40,  8, 27, 47, 34,  2, 22, 41,  9, 28, 48, 16,\n",
       "        35,  3, 23, 15, 42, 10, 29, 49, 17, 36,  4, 24, 43, 11, 30, 50, 18,\n",
       "        37,  5, 25, 44, 12, 31, 51, 19, 38,  6, 26, 45, 13, 32, 52, 20, 39,\n",
       "         7]),\n",
       " array([46, 14, 33,  1, 21, 40,  8, 27, 47, 34,  2, 22, 41,  9, 28, 48, 16,\n",
       "        35,  3, 23, 42, 15, 10, 29, 49, 17, 36,  4, 24, 43, 11, 30, 50, 18,\n",
       "        37,  5, 25, 44, 12, 31, 51, 19, 38,  6, 26, 45, 13, 32, 52, 20, 39,\n",
       "         7]),\n",
       " array([46, 14, 33,  1, 21, 40,  8, 27, 47, 34,  2, 22, 41,  9, 28, 48, 16,\n",
       "        35,  3, 23, 42, 10, 15, 29, 49, 17, 36,  4, 24, 43, 11, 30, 50, 18,\n",
       "        37,  5, 25, 44, 12, 31, 51, 19, 38,  6, 26, 45, 13, 32, 52, 20, 39,\n",
       "         7]),\n",
       " array([46, 14, 33,  1, 21, 40,  8, 27, 47, 34,  2, 22, 41,  9, 28, 48, 16,\n",
       "        35,  3, 23, 42, 10, 29, 15, 49, 17, 36,  4, 24, 43, 11, 30, 50, 18,\n",
       "        37,  5, 25, 44, 12, 31, 51, 19, 38,  6, 26, 45, 13, 32, 52, 20, 39,\n",
       "         7]),\n",
       " array([46, 14, 33,  1, 21, 40,  8, 27, 47, 34,  2, 22, 41,  9, 28, 48, 16,\n",
       "        35,  3, 23, 42, 10, 29, 49, 15, 17, 36,  4, 24, 43, 11, 30, 50, 18,\n",
       "        37,  5, 25, 44, 12, 31, 51, 19, 38,  6, 26, 45, 13, 32, 52, 20, 39,\n",
       "         7])]"
      ]
     },
     "execution_count": 27,
     "metadata": {},
     "output_type": "execute_result"
    }
   ],
   "source": [
    "Possible_Cards_Replace[20:25]"
   ]
  },
  {
   "cell_type": "markdown",
   "metadata": {},
   "source": [
    "Ananlyse the Rising Sequences in each case"
   ]
  },
  {
   "cell_type": "code",
   "execution_count": 29,
   "metadata": {
    "collapsed": false,
    "scrolled": false
   },
   "outputs": [
    {
     "name": "stdout",
     "output_type": "stream",
     "text": [
      "Number of Rising Sequences:  9 \n",
      "\n",
      "Rising Sequences:\n",
      " [46, 47, 48, 49, 50, 51, 52, 14, 15, 33, 34, 35, 36, 37, 38, 39, 1, 2, 3, 4, 5, 6, 7, 21, 22, 23, 24, 25, 26, 40, 41, 42, 43, 44, 45, 8, 9, 10, 11, 12, 13, 27, 28, 29, 30, 31, 32, 16, 17, 18, 19, 20]\n",
      "Number of Rising Sequences:  9 \n",
      "\n",
      "Rising Sequences:\n",
      " [46, 47, 48, 49, 50, 51, 52, 14, 15, 33, 34, 35, 36, 37, 38, 39, 1, 2, 3, 4, 5, 6, 7, 21, 22, 23, 24, 25, 26, 40, 41, 42, 43, 44, 45, 8, 9, 10, 11, 12, 13, 27, 28, 29, 30, 31, 32, 16, 17, 18, 19, 20]\n",
      "Number of Rising Sequences:  9 \n",
      "\n",
      "Rising Sequences:\n",
      " [46, 47, 48, 49, 50, 51, 52, 14, 15, 33, 34, 35, 36, 37, 38, 39, 1, 2, 3, 4, 5, 6, 7, 21, 22, 23, 24, 25, 26, 40, 41, 42, 43, 44, 45, 8, 9, 10, 11, 12, 13, 27, 28, 29, 30, 31, 32, 16, 17, 18, 19, 20]\n",
      "Number of Rising Sequences:  9 \n",
      "\n",
      "Rising Sequences:\n",
      " [46, 47, 48, 49, 50, 51, 52, 14, 15, 33, 34, 35, 36, 37, 38, 39, 1, 2, 3, 4, 5, 6, 7, 21, 22, 23, 24, 25, 26, 40, 41, 42, 43, 44, 45, 8, 9, 10, 11, 12, 13, 27, 28, 29, 30, 31, 32, 16, 17, 18, 19, 20]\n",
      "Number of Rising Sequences:  9 \n",
      "\n",
      "Rising Sequences:\n",
      " [46, 47, 48, 49, 50, 51, 52, 14, 15, 33, 34, 35, 36, 37, 38, 39, 1, 2, 3, 4, 5, 6, 7, 21, 22, 23, 24, 25, 26, 40, 41, 42, 43, 44, 45, 8, 9, 10, 11, 12, 13, 27, 28, 29, 30, 31, 32, 16, 17, 18, 19, 20]\n"
     ]
    }
   ],
   "source": [
    "for i in range(5):\n",
    "    Rising_Seq(Possible_Cards_Replace[20+i])"
   ]
  },
  {
   "cell_type": "markdown",
   "metadata": {},
   "source": [
    "## Observation\n",
    "\n",
    "Notice that in this case, in each array there is no single rising sequence so it not clear which is the selected card.\n",
    "\n",
    "**NB**\n",
    "\n",
    "This is not always true"
   ]
  },
  {
   "cell_type": "markdown",
   "metadata": {},
   "source": [
    "## Test 2\n",
    "\n",
    "Recall the selected card in **Step 1**, **Case 2**"
   ]
  },
  {
   "cell_type": "code",
   "execution_count": 30,
   "metadata": {
    "collapsed": false
   },
   "outputs": [
    {
     "data": {
      "text/plain": [
       "[array([40, 19, 27,  6, 13, 47,  1, 34, 41, 21, 28,  7, 14, 48,  2, 35, 42,\n",
       "        22, 29,  8, 15, 49,  3, 36, 43, 23, 30,  9, 16, 50, 20, 37, 44, 24,\n",
       "        31, 10, 17, 51,  4, 38, 45, 25, 32, 11, 18, 52,  5, 39, 46, 26, 33,\n",
       "        12]),\n",
       " array([33,  1, 46, 13,  7, 27, 21, 40, 34,  2, 47, 14,  8, 28, 22, 41, 35,\n",
       "         3, 48, 15,  9, 29, 23, 42, 36,  4, 49, 16, 10, 30, 24, 43, 37, 20,\n",
       "        50, 17, 11, 31, 25, 44, 38,  5, 51, 18, 12, 32, 26, 45, 39,  6, 52,\n",
       "        19]),\n",
       " array([40, 19, 27,  6, 13, 47,  1, 34, 41, 21, 28,  7, 14, 48,  2, 35, 42,\n",
       "        22, 29,  8, 15, 49,  3, 36, 43, 23, 30,  9, 16, 50,  4, 37, 44, 24,\n",
       "        31, 10, 17, 51,  5, 38, 45, 25, 32, 11, 18, 52, 20, 39, 46, 26, 33,\n",
       "        12]),\n",
       " array([33,  1, 46, 13,  7, 27, 21, 40, 34,  2, 47, 14,  8, 28, 22, 41, 35,\n",
       "         3, 48, 15,  9, 29, 23, 42, 36,  4, 49, 16, 10, 30, 24, 43, 37,  5,\n",
       "        50, 17, 11, 31, 25, 44, 38,  6, 51, 18, 12, 32, 26, 45, 39, 20, 52,\n",
       "        19]),\n",
       " array([46, 13, 33,  1, 21, 40, 20, 27, 47, 14, 34,  2, 22, 41,  8, 28, 48,\n",
       "        15, 35,  3, 23, 42,  9, 29, 49, 16, 36,  4, 24, 43, 10, 30, 50, 17,\n",
       "        37,  5, 25, 44, 11, 31, 51, 18, 38,  6, 26, 45, 12, 32, 52, 19, 39,\n",
       "         7])]"
      ]
     },
     "execution_count": 30,
     "metadata": {},
     "output_type": "execute_result"
    }
   ],
   "source": [
    "Card_Shuffle2[3:8]"
   ]
  },
  {
   "cell_type": "markdown",
   "metadata": {},
   "source": [
    "Analyse the Rising sequences"
   ]
  },
  {
   "cell_type": "code",
   "execution_count": 31,
   "metadata": {
    "collapsed": false
   },
   "outputs": [
    {
     "name": "stdout",
     "output_type": "stream",
     "text": [
      "Number of Rising Sequences:  9 \n",
      "\n",
      "Rising Sequences:\n",
      " [40, 41, 42, 43, 44, 45, 46, 19, 20, 27, 28, 29, 30, 31, 32, 33, 6, 7, 8, 9, 10, 11, 12, 13, 14, 15, 16, 17, 18, 47, 48, 49, 50, 51, 52, 1, 2, 3, 4, 5, 34, 35, 36, 37, 38, 39, 21, 22, 23, 24, 25, 26]\n",
      "Number of Rising Sequences:  9 \n",
      "\n",
      "Rising Sequences:\n",
      " [33, 34, 35, 36, 37, 38, 39, 1, 2, 3, 4, 5, 6, 46, 47, 48, 49, 50, 51, 52, 13, 14, 15, 16, 17, 18, 19, 7, 8, 9, 10, 11, 12, 27, 28, 29, 30, 31, 32, 21, 22, 23, 24, 25, 26, 40, 41, 42, 43, 44, 45, 20]\n",
      "Number of Rising Sequences:  9 \n",
      "\n",
      "Rising Sequences:\n",
      " [40, 41, 42, 43, 44, 45, 46, 19, 20, 27, 28, 29, 30, 31, 32, 33, 6, 7, 8, 9, 10, 11, 12, 13, 14, 15, 16, 17, 18, 47, 48, 49, 50, 51, 52, 1, 2, 3, 4, 5, 34, 35, 36, 37, 38, 39, 21, 22, 23, 24, 25, 26]\n",
      "Number of Rising Sequences:  9 \n",
      "\n",
      "Rising Sequences:\n",
      " [33, 34, 35, 36, 37, 38, 39, 1, 2, 3, 4, 5, 6, 46, 47, 48, 49, 50, 51, 52, 13, 14, 15, 16, 17, 18, 19, 7, 8, 9, 10, 11, 12, 27, 28, 29, 30, 31, 32, 21, 22, 23, 24, 25, 26, 40, 41, 42, 43, 44, 45, 20]\n",
      "Number of Rising Sequences:  9 \n",
      "\n",
      "Rising Sequences:\n",
      " [46, 47, 48, 49, 50, 51, 52, 13, 14, 15, 16, 17, 18, 19, 33, 34, 35, 36, 37, 38, 39, 1, 2, 3, 4, 5, 6, 7, 21, 22, 23, 24, 25, 26, 40, 41, 42, 43, 44, 45, 20, 27, 28, 29, 30, 31, 32, 8, 9, 10, 11, 12]\n"
     ]
    }
   ],
   "source": [
    "for i in range(5):\n",
    "    Rising_Seq(Card_Shuffle2[3+i])"
   ]
  },
  {
   "cell_type": "markdown",
   "metadata": {},
   "source": [
    "## Observation\n",
    "\n",
    "Notice that in some arrays there are at least two rising sequences so it may not be easy to correctly determine which card was selected from the ordered deck."
   ]
  },
  {
   "cell_type": "markdown",
   "metadata": {},
   "source": [
    "# Conclusion"
   ]
  },
  {
   "cell_type": "code",
   "execution_count": 32,
   "metadata": {
    "collapsed": false
   },
   "outputs": [
    {
     "data": {
      "image/png": "[encoded data removed]",
      "text/plain": [
       "<matplotlib.figure.Figure at 0x7fdaea59ec50>"
      ]
     },
     "metadata": {},
     "output_type": "display_data"
    }
   ],
   "source": [
    "plt.subplot(1,2,1)\n",
    "plt.plot(RSEQ,'green')\n",
    "plt.xlabel('Positions of the selected card')\n",
    "plt.ylabel('Number of Rising Sequences')\n",
    "plt.title('Rising sequence plot for Case 1\\n')\n",
    "plt.grid(True)\n",
    "plt.subplot(1,2,2)\n",
    "plt.plot(RSEQ2, 'magenta')\n",
    "plt.xlabel('Positions of the selected card')\n",
    "plt.ylabel('Number of Rising Sequences')\n",
    "plt.title('Rising sequence plot for Case 2\\n')\n",
    "plt.grid(True)\n",
    "plt.subplots_adjust(left=0.5,right=2.5)\n",
    "plt.show()"
   ]
  },
  {
   "cell_type": "markdown",
   "metadata": {},
   "source": [
    "From the Observations recorded in the report and with the last test, it is not easy to conclude which Case is the best based on the number of rising sequences."
   ]
  }
 ],
 "metadata": {
  "kernelspec": {
   "display_name": "Python 3",
   "language": "python",
   "name": "python3"
  },
  "language_info": {
   "codemirror_mode": {
    "name": "ipython",
    "version": 3
   },
   "file_extension": ".py",
   "mimetype": "text/x-python",
   "name": "python",
   "nbconvert_exporter": "python",
   "pygments_lexer": "ipython3",
   "version": "3.5.3"
  }
 },
 "nbformat": 4,
 "nbformat_minor": 2
}
